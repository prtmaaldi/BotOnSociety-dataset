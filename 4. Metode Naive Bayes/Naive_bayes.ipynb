{
  "cells": [
    {
      "cell_type": "markdown",
      "metadata": {
        "id": "0MRC0e0KhQ0S"
      },
      "source": [
        "# Naive Bayes"
      ]
    },
    {
      "cell_type": "markdown",
      "metadata": {
        "id": "LWd1UlMnhT2s"
      },
      "source": [
        "## Importing the libraries"
      ]
    },
    {
      "cell_type": "code",
      "execution_count": 2,
      "metadata": {
        "id": "YvGPUQaHhXfL"
      },
      "outputs": [],
      "source": [
        "import numpy as np\n",
        "import matplotlib.pyplot as plt\n",
        "import pandas as pd"
      ]
    },
    {
      "cell_type": "markdown",
      "metadata": {
        "id": "K1VMqkGvhc3-"
      },
      "source": [
        "## Importing the dataset"
      ]
    },
    {
      "cell_type": "code",
      "execution_count": 71,
      "metadata": {
        "id": "M52QDmyzhh9s"
      },
      "outputs": [],
      "source": [
        "dataset = pd.read_csv('Immunotherapy.csv')\n",
        "X = dataset.iloc[:, [2, 3]].values\n",
        "y = dataset.iloc[:, -1].values"
      ]
    },
    {
      "cell_type": "code",
      "source": [
        "y"
      ],
      "metadata": {
        "colab": {
          "base_uri": "https://localhost:8080/"
        },
        "id": "ESU_4s5EP2rO",
        "outputId": "2a222aa1-341a-4f5c-ade7-9f5c0f3e8404"
      },
      "execution_count": 61,
      "outputs": [
        {
          "output_type": "execute_result",
          "data": {
            "text/plain": [
              "array([1, 1, 1, 1, 1, 1, 1, 1, 1, 0, 1, 1, 0, 1, 1, 1, 1, 1, 1, 1, 1, 1,\n",
              "       0, 1, 1, 1, 1, 0, 0, 1, 1, 1, 1, 1, 1, 0, 0, 1, 1, 0, 1, 1, 0, 0,\n",
              "       1, 1, 1, 1, 1, 0, 1, 1, 1, 1, 1, 1, 1, 1, 0, 1, 1, 1, 1, 1, 1, 1,\n",
              "       0, 1, 1, 0, 1, 1, 0, 1, 1, 1, 1, 1, 1, 0, 1, 1, 0, 1, 1, 1, 1, 0,\n",
              "       0, 1])"
            ]
          },
          "metadata": {},
          "execution_count": 61
        }
      ]
    },
    {
      "cell_type": "code",
      "source": [
        "X"
      ],
      "metadata": {
        "colab": {
          "base_uri": "https://localhost:8080/"
        },
        "id": "Z0kxplOiP4xE",
        "outputId": "d36ee705-6981-45ba-a4da-395035680b9f"
      },
      "execution_count": 72,
      "outputs": [
        {
          "output_type": "execute_result",
          "data": {
            "text/plain": [
              "array([[ 2.25, 14.  ],\n",
              "       [ 3.  ,  2.  ],\n",
              "       [10.5 ,  2.  ],\n",
              "       [ 4.5 ,  9.  ],\n",
              "       [ 8.  ,  6.  ],\n",
              "       [ 5.  ,  3.  ],\n",
              "       [ 9.75,  2.  ],\n",
              "       [ 7.5 ,  4.  ],\n",
              "       [ 6.  ,  2.  ],\n",
              "       [12.  ,  6.  ],\n",
              "       [ 6.25,  2.  ],\n",
              "       [ 5.75, 12.  ],\n",
              "       [ 1.75,  1.  ],\n",
              "       [ 5.5 , 12.  ],\n",
              "       [10.  ,  7.  ],\n",
              "       [ 9.25,  2.  ],\n",
              "       [ 7.75,  6.  ],\n",
              "       [ 7.5 , 10.  ],\n",
              "       [ 6.5 , 19.  ],\n",
              "       [ 6.75,  2.  ],\n",
              "       [ 1.25,  3.  ],\n",
              "       [ 2.25,  2.  ],\n",
              "       [10.5 ,  6.  ],\n",
              "       [ 5.75,  2.  ],\n",
              "       [11.25,  4.  ],\n",
              "       [ 5.  ,  2.  ],\n",
              "       [ 4.75, 10.  ],\n",
              "       [11.  ,  6.  ],\n",
              "       [11.5 , 12.  ],\n",
              "       [ 7.75, 18.  ],\n",
              "       [ 2.5 ,  1.  ],\n",
              "       [ 3.  ,  2.  ],\n",
              "       [10.25,  7.  ],\n",
              "       [ 4.25,  1.  ],\n",
              "       [ 8.  ,  3.  ],\n",
              "       [ 5.  ,  7.  ],\n",
              "       [11.  , 11.  ],\n",
              "       [ 8.75,  3.  ],\n",
              "       [ 8.5 ,  5.  ],\n",
              "       [11.25,  4.  ],\n",
              "       [ 8.25,  9.  ],\n",
              "       [ 8.75, 10.  ],\n",
              "       [ 8.5 ,  1.  ],\n",
              "       [ 4.5 ,  2.  ],\n",
              "       [11.  ,  5.  ],\n",
              "       [ 8.  ,  3.  ],\n",
              "       [ 7.75, 13.  ],\n",
              "       [ 8.75,  2.  ],\n",
              "       [ 7.75,  6.  ],\n",
              "       [12.  , 14.  ],\n",
              "       [ 1.75, 10.  ],\n",
              "       [ 2.25,  5.  ],\n",
              "       [ 9.  ,  4.  ],\n",
              "       [ 5.75,  2.  ],\n",
              "       [10.  ,  8.  ],\n",
              "       [ 7.5 , 13.  ],\n",
              "       [ 5.25,  3.  ],\n",
              "       [10.  ,  1.  ],\n",
              "       [11.75,  7.  ],\n",
              "       [11.25,  3.  ],\n",
              "       [ 3.75, 14.  ],\n",
              "       [ 2.25,  8.  ],\n",
              "       [ 8.  ,  5.  ],\n",
              "       [ 4.  , 12.  ],\n",
              "       [ 8.5 ,  2.  ],\n",
              "       [ 5.  , 12.  ],\n",
              "       [11.75,  8.  ],\n",
              "       [ 6.  ,  6.  ],\n",
              "       [ 6.75,  4.  ],\n",
              "       [10.75,  8.  ],\n",
              "       [ 8.  ,  1.  ],\n",
              "       [ 4.  ,  4.  ],\n",
              "       [ 1.75,  7.  ],\n",
              "       [ 4.  ,  1.  ],\n",
              "       [ 6.5 ,  9.  ],\n",
              "       [ 9.25, 13.  ],\n",
              "       [11.75,  5.  ],\n",
              "       [ 7.75,  8.  ],\n",
              "       [11.  ,  7.  ],\n",
              "       [11.  ,  3.  ],\n",
              "       [ 1.  ,  2.  ],\n",
              "       [ 2.  , 11.  ],\n",
              "       [ 8.75,  8.  ],\n",
              "       [ 8.  ,  1.  ],\n",
              "       [ 7.25,  6.  ],\n",
              "       [ 5.5 ,  8.  ],\n",
              "       [ 7.5 ,  8.  ],\n",
              "       [11.5 ,  4.  ],\n",
              "       [12.  ,  9.  ],\n",
              "       [ 6.75,  6.  ]])"
            ]
          },
          "metadata": {},
          "execution_count": 72
        }
      ]
    },
    {
      "cell_type": "markdown",
      "metadata": {
        "id": "YvxIPVyMhmKp"
      },
      "source": [
        "## Splitting the dataset into the Training set and Test set"
      ]
    },
    {
      "cell_type": "code",
      "execution_count": 73,
      "metadata": {
        "id": "AVzJWAXIhxoC"
      },
      "outputs": [],
      "source": [
        "from sklearn.model_selection import train_test_split\n",
        "X_train, X_test, y_train, y_test = train_test_split(X, y, test_size = 0.25, random_state = 0)"
      ]
    },
    {
      "cell_type": "code",
      "source": [
        "X_train"
      ],
      "metadata": {
        "colab": {
          "base_uri": "https://localhost:8080/"
        },
        "id": "pN4Z9jucQBWb",
        "outputId": "41e61d90-ad17-4e3d-b822-68df3516670b"
      },
      "execution_count": 74,
      "outputs": [
        {
          "output_type": "execute_result",
          "data": {
            "text/plain": [
              "array([[ 7.75,  6.  ],\n",
              "       [ 1.  ,  2.  ],\n",
              "       [10.  ,  8.  ],\n",
              "       [ 4.  ,  1.  ],\n",
              "       [11.  ,  3.  ],\n",
              "       [ 8.75,  8.  ],\n",
              "       [ 4.5 ,  9.  ],\n",
              "       [ 8.  ,  5.  ],\n",
              "       [ 9.25, 13.  ],\n",
              "       [11.  ,  6.  ],\n",
              "       [ 6.5 , 19.  ],\n",
              "       [ 1.75, 10.  ],\n",
              "       [ 2.25,  5.  ],\n",
              "       [ 6.5 ,  9.  ],\n",
              "       [11.25,  3.  ],\n",
              "       [ 7.5 , 13.  ],\n",
              "       [ 8.  ,  6.  ],\n",
              "       [ 9.25,  2.  ],\n",
              "       [ 7.5 , 10.  ],\n",
              "       [ 8.25,  9.  ],\n",
              "       [ 8.5 ,  5.  ],\n",
              "       [ 5.  ,  3.  ],\n",
              "       [ 2.  , 11.  ],\n",
              "       [ 6.75,  4.  ],\n",
              "       [ 2.25, 14.  ],\n",
              "       [ 8.  ,  3.  ],\n",
              "       [11.5 , 12.  ],\n",
              "       [ 5.75, 12.  ],\n",
              "       [ 5.  ,  7.  ],\n",
              "       [ 5.75,  2.  ],\n",
              "       [ 9.  ,  4.  ],\n",
              "       [ 6.25,  2.  ],\n",
              "       [ 3.  ,  2.  ],\n",
              "       [ 3.75, 14.  ],\n",
              "       [10.  ,  1.  ],\n",
              "       [ 4.  ,  4.  ],\n",
              "       [ 3.  ,  2.  ],\n",
              "       [10.25,  7.  ],\n",
              "       [11.75,  5.  ],\n",
              "       [10.  ,  7.  ],\n",
              "       [ 5.5 ,  8.  ],\n",
              "       [ 6.75,  2.  ],\n",
              "       [ 7.75, 18.  ],\n",
              "       [12.  , 14.  ],\n",
              "       [11.5 ,  4.  ],\n",
              "       [12.  ,  9.  ],\n",
              "       [10.75,  8.  ],\n",
              "       [ 1.25,  3.  ],\n",
              "       [ 7.25,  6.  ],\n",
              "       [ 1.75,  7.  ],\n",
              "       [ 5.  ,  2.  ],\n",
              "       [ 8.75,  3.  ],\n",
              "       [ 7.75, 13.  ],\n",
              "       [11.25,  4.  ],\n",
              "       [ 5.  , 12.  ],\n",
              "       [11.75,  7.  ],\n",
              "       [ 1.75,  1.  ],\n",
              "       [ 8.  ,  1.  ],\n",
              "       [11.  , 11.  ],\n",
              "       [ 2.25,  2.  ],\n",
              "       [ 8.  ,  1.  ],\n",
              "       [12.  ,  6.  ],\n",
              "       [ 7.5 ,  8.  ],\n",
              "       [ 6.  ,  6.  ],\n",
              "       [ 8.5 ,  2.  ],\n",
              "       [ 8.75,  2.  ],\n",
              "       [11.  ,  5.  ]])"
            ]
          },
          "metadata": {},
          "execution_count": 74
        }
      ]
    },
    {
      "cell_type": "code",
      "source": [
        "y_test"
      ],
      "metadata": {
        "colab": {
          "base_uri": "https://localhost:8080/"
        },
        "id": "LZDO8q3NQJ4e",
        "outputId": "f76aa9cf-d475-4432-ff08-a226c93d2077"
      },
      "execution_count": 75,
      "outputs": [
        {
          "output_type": "execute_result",
          "data": {
            "text/plain": [
              "array([1, 1, 1, 1, 0, 1, 1, 0, 1, 1, 1, 1, 1, 1, 1, 1, 1, 1, 1, 0, 0, 1,\n",
              "       1])"
            ]
          },
          "metadata": {},
          "execution_count": 75
        }
      ]
    },
    {
      "cell_type": "markdown",
      "metadata": {
        "id": "kW3c7UYih0hT"
      },
      "source": [
        "## Feature Scaling"
      ]
    },
    {
      "cell_type": "code",
      "execution_count": 76,
      "metadata": {
        "id": "9fQlDPKCh8sc"
      },
      "outputs": [],
      "source": [
        "from sklearn.preprocessing import StandardScaler\n",
        "sc = StandardScaler()\n",
        "X_train = sc.fit_transform(X_train)\n",
        "X_test = sc.transform(X_test)"
      ]
    },
    {
      "cell_type": "code",
      "source": [
        "X_train"
      ],
      "metadata": {
        "id": "e6TD2edQQSfb",
        "outputId": "849ee690-e1da-46ef-b08c-9b82d990b34c",
        "colab": {
          "base_uri": "https://localhost:8080/"
        }
      },
      "execution_count": 77,
      "outputs": [
        {
          "output_type": "execute_result",
          "data": {
            "text/plain": [
              "array([[ 1.54647555e-01, -1.06329123e-01],\n",
              "       [-1.96472689e+00, -1.02556154e+00],\n",
              "       [ 8.61105703e-01,  3.53287085e-01],\n",
              "       [-1.02278269e+00, -1.25536964e+00],\n",
              "       [ 1.17508710e+00, -7.95753435e-01],\n",
              "       [ 4.68628954e-01,  3.53287085e-01],\n",
              "       [-8.65791993e-01,  5.83095189e-01],\n",
              "       [ 2.33142905e-01, -3.36137227e-01],\n",
              "       [ 6.25619654e-01,  1.50232761e+00],\n",
              "       [ 1.17508710e+00, -1.06329123e-01],\n",
              "       [-2.37829194e-01,  2.88117623e+00],\n",
              "       [-1.72924084e+00,  8.12903294e-01],\n",
              "       [-1.57225014e+00, -3.36137227e-01],\n",
              "       [-2.37829194e-01,  5.83095189e-01],\n",
              "       [ 1.25358245e+00, -7.95753435e-01],\n",
              "       [ 7.61522050e-02,  1.50232761e+00],\n",
              "       [ 2.33142905e-01, -1.06329123e-01],\n",
              "       [ 6.25619654e-01, -1.02556154e+00],\n",
              "       [ 7.61522050e-02,  8.12903294e-01],\n",
              "       [ 3.11638254e-01,  5.83095189e-01],\n",
              "       [ 3.90133604e-01, -3.36137227e-01],\n",
              "       [-7.08801293e-01, -7.95753435e-01],\n",
              "       [-1.65074549e+00,  1.04271140e+00],\n",
              "       [-1.59333844e-01, -5.65945331e-01],\n",
              "       [-1.57225014e+00,  1.73213571e+00],\n",
              "       [ 2.33142905e-01, -7.95753435e-01],\n",
              "       [ 1.33207780e+00,  1.27251950e+00],\n",
              "       [-4.73315244e-01,  1.27251950e+00],\n",
              "       [-7.08801293e-01,  1.23478981e-01],\n",
              "       [-4.73315244e-01, -1.02556154e+00],\n",
              "       [ 5.47124304e-01, -5.65945331e-01],\n",
              "       [-3.16324544e-01, -1.02556154e+00],\n",
              "       [-1.33676409e+00, -1.02556154e+00],\n",
              "       [-1.10127804e+00,  1.73213571e+00],\n",
              "       [ 8.61105703e-01, -1.25536964e+00],\n",
              "       [-1.02278269e+00, -5.65945331e-01],\n",
              "       [-1.33676409e+00, -1.02556154e+00],\n",
              "       [ 9.39601053e-01,  1.23478981e-01],\n",
              "       [ 1.41057315e+00, -3.36137227e-01],\n",
              "       [ 8.61105703e-01,  1.23478981e-01],\n",
              "       [-5.51810593e-01,  3.53287085e-01],\n",
              "       [-1.59333844e-01, -1.02556154e+00],\n",
              "       [ 1.54647555e-01,  2.65136813e+00],\n",
              "       [ 1.48906850e+00,  1.73213571e+00],\n",
              "       [ 1.33207780e+00, -5.65945331e-01],\n",
              "       [ 1.48906850e+00,  5.83095189e-01],\n",
              "       [ 1.09659175e+00,  3.53287085e-01],\n",
              "       [-1.88623154e+00, -7.95753435e-01],\n",
              "       [-2.34314477e-03, -1.06329123e-01],\n",
              "       [-1.72924084e+00,  1.23478981e-01],\n",
              "       [-7.08801293e-01, -1.02556154e+00],\n",
              "       [ 4.68628954e-01, -7.95753435e-01],\n",
              "       [ 1.54647555e-01,  1.50232761e+00],\n",
              "       [ 1.25358245e+00, -5.65945331e-01],\n",
              "       [-7.08801293e-01,  1.27251950e+00],\n",
              "       [ 1.41057315e+00,  1.23478981e-01],\n",
              "       [-1.72924084e+00, -1.25536964e+00],\n",
              "       [ 2.33142905e-01, -1.25536964e+00],\n",
              "       [ 1.17508710e+00,  1.04271140e+00],\n",
              "       [-1.57225014e+00, -1.02556154e+00],\n",
              "       [ 2.33142905e-01, -1.25536964e+00],\n",
              "       [ 1.48906850e+00, -1.06329123e-01],\n",
              "       [ 7.61522050e-02,  3.53287085e-01],\n",
              "       [-3.94819894e-01, -1.06329123e-01],\n",
              "       [ 3.90133604e-01, -1.02556154e+00],\n",
              "       [ 4.68628954e-01, -1.02556154e+00],\n",
              "       [ 1.17508710e+00, -3.36137227e-01]])"
            ]
          },
          "metadata": {},
          "execution_count": 77
        }
      ]
    },
    {
      "cell_type": "markdown",
      "metadata": {
        "id": "bb6jCOCQiAmP"
      },
      "source": [
        "## Training the Naive Bayes model on the Training set"
      ]
    },
    {
      "cell_type": "code",
      "execution_count": 78,
      "metadata": {
        "colab": {
          "base_uri": "https://localhost:8080/",
          "height": 74
        },
        "id": "e0pFVAmciHQs",
        "outputId": "c0c09f36-a437-4c94-d8df-fec24bd100c6"
      },
      "outputs": [
        {
          "output_type": "execute_result",
          "data": {
            "text/plain": [
              "GaussianNB()"
            ],
            "text/html": [
              "<style>#sk-container-id-6 {color: black;background-color: white;}#sk-container-id-6 pre{padding: 0;}#sk-container-id-6 div.sk-toggleable {background-color: white;}#sk-container-id-6 label.sk-toggleable__label {cursor: pointer;display: block;width: 100%;margin-bottom: 0;padding: 0.3em;box-sizing: border-box;text-align: center;}#sk-container-id-6 label.sk-toggleable__label-arrow:before {content: \"▸\";float: left;margin-right: 0.25em;color: #696969;}#sk-container-id-6 label.sk-toggleable__label-arrow:hover:before {color: black;}#sk-container-id-6 div.sk-estimator:hover label.sk-toggleable__label-arrow:before {color: black;}#sk-container-id-6 div.sk-toggleable__content {max-height: 0;max-width: 0;overflow: hidden;text-align: left;background-color: #f0f8ff;}#sk-container-id-6 div.sk-toggleable__content pre {margin: 0.2em;color: black;border-radius: 0.25em;background-color: #f0f8ff;}#sk-container-id-6 input.sk-toggleable__control:checked~div.sk-toggleable__content {max-height: 200px;max-width: 100%;overflow: auto;}#sk-container-id-6 input.sk-toggleable__control:checked~label.sk-toggleable__label-arrow:before {content: \"▾\";}#sk-container-id-6 div.sk-estimator input.sk-toggleable__control:checked~label.sk-toggleable__label {background-color: #d4ebff;}#sk-container-id-6 div.sk-label input.sk-toggleable__control:checked~label.sk-toggleable__label {background-color: #d4ebff;}#sk-container-id-6 input.sk-hidden--visually {border: 0;clip: rect(1px 1px 1px 1px);clip: rect(1px, 1px, 1px, 1px);height: 1px;margin: -1px;overflow: hidden;padding: 0;position: absolute;width: 1px;}#sk-container-id-6 div.sk-estimator {font-family: monospace;background-color: #f0f8ff;border: 1px dotted black;border-radius: 0.25em;box-sizing: border-box;margin-bottom: 0.5em;}#sk-container-id-6 div.sk-estimator:hover {background-color: #d4ebff;}#sk-container-id-6 div.sk-parallel-item::after {content: \"\";width: 100%;border-bottom: 1px solid gray;flex-grow: 1;}#sk-container-id-6 div.sk-label:hover label.sk-toggleable__label {background-color: #d4ebff;}#sk-container-id-6 div.sk-serial::before {content: \"\";position: absolute;border-left: 1px solid gray;box-sizing: border-box;top: 0;bottom: 0;left: 50%;z-index: 0;}#sk-container-id-6 div.sk-serial {display: flex;flex-direction: column;align-items: center;background-color: white;padding-right: 0.2em;padding-left: 0.2em;position: relative;}#sk-container-id-6 div.sk-item {position: relative;z-index: 1;}#sk-container-id-6 div.sk-parallel {display: flex;align-items: stretch;justify-content: center;background-color: white;position: relative;}#sk-container-id-6 div.sk-item::before, #sk-container-id-6 div.sk-parallel-item::before {content: \"\";position: absolute;border-left: 1px solid gray;box-sizing: border-box;top: 0;bottom: 0;left: 50%;z-index: -1;}#sk-container-id-6 div.sk-parallel-item {display: flex;flex-direction: column;z-index: 1;position: relative;background-color: white;}#sk-container-id-6 div.sk-parallel-item:first-child::after {align-self: flex-end;width: 50%;}#sk-container-id-6 div.sk-parallel-item:last-child::after {align-self: flex-start;width: 50%;}#sk-container-id-6 div.sk-parallel-item:only-child::after {width: 0;}#sk-container-id-6 div.sk-dashed-wrapped {border: 1px dashed gray;margin: 0 0.4em 0.5em 0.4em;box-sizing: border-box;padding-bottom: 0.4em;background-color: white;}#sk-container-id-6 div.sk-label label {font-family: monospace;font-weight: bold;display: inline-block;line-height: 1.2em;}#sk-container-id-6 div.sk-label-container {text-align: center;}#sk-container-id-6 div.sk-container {/* jupyter's `normalize.less` sets `[hidden] { display: none; }` but bootstrap.min.css set `[hidden] { display: none !important; }` so we also need the `!important` here to be able to override the default hidden behavior on the sphinx rendered scikit-learn.org. See: https://github.com/scikit-learn/scikit-learn/issues/21755 */display: inline-block !important;position: relative;}#sk-container-id-6 div.sk-text-repr-fallback {display: none;}</style><div id=\"sk-container-id-6\" class=\"sk-top-container\"><div class=\"sk-text-repr-fallback\"><pre>GaussianNB()</pre><b>In a Jupyter environment, please rerun this cell to show the HTML representation or trust the notebook. <br />On GitHub, the HTML representation is unable to render, please try loading this page with nbviewer.org.</b></div><div class=\"sk-container\" hidden><div class=\"sk-item\"><div class=\"sk-estimator sk-toggleable\"><input class=\"sk-toggleable__control sk-hidden--visually\" id=\"sk-estimator-id-6\" type=\"checkbox\" checked><label for=\"sk-estimator-id-6\" class=\"sk-toggleable__label sk-toggleable__label-arrow\">GaussianNB</label><div class=\"sk-toggleable__content\"><pre>GaussianNB()</pre></div></div></div></div></div>"
            ]
          },
          "metadata": {},
          "execution_count": 78
        }
      ],
      "source": [
        "from sklearn.naive_bayes import GaussianNB\n",
        "classifier = GaussianNB()\n",
        "classifier.fit(X_train, y_train)"
      ]
    },
    {
      "cell_type": "markdown",
      "metadata": {
        "id": "ZmePIEiiiKyw"
      },
      "source": [
        "## Predicting the Test set results"
      ]
    },
    {
      "cell_type": "code",
      "execution_count": 79,
      "metadata": {
        "id": "aWK4AcCgiNwF"
      },
      "outputs": [],
      "source": [
        "y_pred = classifier.predict(X_test)"
      ]
    },
    {
      "cell_type": "code",
      "source": [
        "y_pred"
      ],
      "metadata": {
        "colab": {
          "base_uri": "https://localhost:8080/"
        },
        "id": "ItUA8xQYDqmD",
        "outputId": "d753d688-1ec9-48e0-b594-f91ea5419167"
      },
      "execution_count": 82,
      "outputs": [
        {
          "output_type": "execute_result",
          "data": {
            "text/plain": [
              "array([1, 1, 1, 1, 0, 1, 1, 1, 0, 1, 1, 1, 1, 1, 1, 1, 1, 1, 1, 1, 1, 1,\n",
              "       1])"
            ]
          },
          "metadata": {},
          "execution_count": 82
        }
      ]
    },
    {
      "cell_type": "code",
      "source": [
        "y_test"
      ],
      "metadata": {
        "colab": {
          "base_uri": "https://localhost:8080/"
        },
        "id": "I5ZX-_JLDttb",
        "outputId": "d9193e95-f8b0-40bf-f64a-98009ce3cd44"
      },
      "execution_count": 83,
      "outputs": [
        {
          "output_type": "execute_result",
          "data": {
            "text/plain": [
              "array([1, 1, 1, 1, 0, 1, 1, 0, 1, 1, 1, 1, 1, 1, 1, 1, 1, 1, 1, 0, 0, 1,\n",
              "       1])"
            ]
          },
          "metadata": {},
          "execution_count": 83
        }
      ]
    },
    {
      "cell_type": "markdown",
      "metadata": {
        "id": "h4Hwj34ziWQW"
      },
      "source": [
        "## Making the Confusion Matrix"
      ]
    },
    {
      "cell_type": "code",
      "execution_count": 80,
      "metadata": {
        "colab": {
          "base_uri": "https://localhost:8080/"
        },
        "id": "D6bpZwUiiXic",
        "outputId": "83a40d7a-0221-42ef-e7e6-4948be9a7f28"
      },
      "outputs": [
        {
          "output_type": "stream",
          "name": "stdout",
          "text": [
            "[[ 1  3]\n",
            " [ 1 18]]\n"
          ]
        }
      ],
      "source": [
        "from sklearn.metrics import confusion_matrix\n",
        "cm = confusion_matrix(y_test, y_pred)\n",
        "print(cm)"
      ]
    },
    {
      "cell_type": "code",
      "source": [
        "import seaborn as sns\n",
        "import matplotlib.pyplot as plt\n",
        "f, ax = plt.subplots(figsize=(8,5))\n",
        "sns.heatmap(confusion_matrix(y_test, y_pred), annot=True, fmt=\".0f\", ax=ax)\n",
        "plt.xlabel(\"y_pred\")\n",
        "plt.ylabel(\"y_true\")\n",
        "plt.show()"
      ],
      "metadata": {
        "colab": {
          "base_uri": "https://localhost:8080/",
          "height": 470
        },
        "id": "9wV374x_Dz0l",
        "outputId": "a13ce3f0-ffdd-417c-c05a-1b5bcc559c0d"
      },
      "execution_count": 84,
      "outputs": [
        {
          "output_type": "display_data",
          "data": {
            "text/plain": [
              "<Figure size 800x500 with 2 Axes>"
            ],
            "image/png": "[encoded data removed]"
          },
          "metadata": {}
        }
      ]
    },
    {
      "cell_type": "code",
      "source": [
        "from sklearn.metrics import classification_report\n",
        "print (classification_report(y_test, y_pred))"
      ],
      "metadata": {
        "colab": {
          "base_uri": "https://localhost:8080/"
        },
        "id": "Kb6Muz_1D3et",
        "outputId": "aa831047-c4ac-44f8-d8c8-928179432508"
      },
      "execution_count": 85,
      "outputs": [
        {
          "output_type": "stream",
          "name": "stdout",
          "text": [
            "              precision    recall  f1-score   support\n",
            "\n",
            "           0       0.50      0.25      0.33         4\n",
            "           1       0.86      0.95      0.90        19\n",
            "\n",
            "    accuracy                           0.83        23\n",
            "   macro avg       0.68      0.60      0.62        23\n",
            "weighted avg       0.80      0.83      0.80        23\n",
            "\n"
          ]
        }
      ]
    },
    {
      "cell_type": "markdown",
      "metadata": {
        "id": "6OMC_P0diaoD"
      },
      "source": [
        "## Visualising the Training set results"
      ]
    },
    {
      "cell_type": "code",
      "execution_count": 87,
      "metadata": {
        "colab": {
          "base_uri": "https://localhost:8080/",
          "height": 528
        },
        "id": "_NOjKvZRid5l",
        "outputId": "feaf57c5-9766-4e9d-c96e-a8eb2bc7b58c"
      },
      "outputs": [
        {
          "output_type": "stream",
          "name": "stderr",
          "text": [
            "<ipython-input-87-88b241bfa95d>:10: UserWarning: *c* argument looks like a single numeric RGB or RGBA sequence, which should be avoided as value-mapping will have precedence in case its length matches with *x* & *y*.  Please use the *color* keyword-argument or provide a 2D array with a single row if you intend to specify the same RGB or RGBA value for all points.\n",
            "  plt.scatter(X_set[y_set == j, 0], X_set[y_set == j, 1],\n"
          ]
        },
        {
          "output_type": "display_data",
          "data": {
            "text/plain": [
              "<Figure size 640x480 with 1 Axes>"
            ],
            "image/png": "[encoded data removed]"
          },
          "metadata": {}
        }
      ],
      "source": [
        "from matplotlib.colors import ListedColormap\n",
        "X_set, y_set = X_train, y_train\n",
        "X1, X2 = np.meshgrid(np.arange(start = X_set[:, 0].min() - 1, stop = X_set[:, 0].max() + 1, step = 0.01),\n",
        "                     np.arange(start = X_set[:, 1].min() - 1, stop = X_set[:, 1].max() + 1, step = 0.01))\n",
        "plt.contourf(X1, X2, classifier.predict(np.array([X1.ravel(), X2.ravel()]).T).reshape(X1.shape),\n",
        "             alpha = 0.75, cmap = ListedColormap(('red', 'green')))\n",
        "plt.xlim(X1.min(), X1.max())\n",
        "plt.ylim(X2.min(), X2.max())\n",
        "for i, j in enumerate(np.unique(y_set)):\n",
        "    plt.scatter(X_set[y_set == j, 0], X_set[y_set == j, 1],\n",
        "                c = ListedColormap(('red', 'green'))(i), label = j)\n",
        "plt.title('Naive Bayes (Training set)')\n",
        "plt.xlabel('Time')\n",
        "plt.ylabel('Number of warts')\n",
        "plt.legend()\n",
        "plt.show()"
      ]
    },
    {
      "cell_type": "markdown",
      "metadata": {
        "id": "SZ-j28aPihZx"
      },
      "source": [
        "## Visualising the Test set results"
      ]
    },
    {
      "cell_type": "code",
      "execution_count": 89,
      "metadata": {
        "colab": {
          "base_uri": "https://localhost:8080/",
          "height": 528
        },
        "id": "qeTjz2vDilAC",
        "outputId": "d2a70ad2-85f4-467e-d19c-7e61deb02d46"
      },
      "outputs": [
        {
          "output_type": "stream",
          "name": "stderr",
          "text": [
            "<ipython-input-89-160f38b547ac>:10: UserWarning: *c* argument looks like a single numeric RGB or RGBA sequence, which should be avoided as value-mapping will have precedence in case its length matches with *x* & *y*.  Please use the *color* keyword-argument or provide a 2D array with a single row if you intend to specify the same RGB or RGBA value for all points.\n",
            "  plt.scatter(X_set[y_set == j, 0], X_set[y_set == j, 1],\n"
          ]
        },
        {
          "output_type": "display_data",
          "data": {
            "text/plain": [
              "<Figure size 640x480 with 1 Axes>"
            ],
            "image/png": "[encoded data removed]"
          },
          "metadata": {}
        }
      ],
      "source": [
        "from matplotlib.colors import ListedColormap\n",
        "X_set, y_set = X_test, y_test\n",
        "X1, X2 = np.meshgrid(np.arange(start = X_set[:, 0].min() - 1, stop = X_set[:, 0].max() + 1, step = 0.01),\n",
        "                     np.arange(start = X_set[:, 1].min() - 1, stop = X_set[:, 1].max() + 1, step = 0.01))\n",
        "plt.contourf(X1, X2, classifier.predict(np.array([X1.ravel(), X2.ravel()]).T).reshape(X1.shape),\n",
        "             alpha = 0.75, cmap = ListedColormap(('red', 'green')))\n",
        "plt.xlim(X1.min(), X1.max())\n",
        "plt.ylim(X2.min(), X2.max())\n",
        "for i, j in enumerate(np.unique(y_set)):\n",
        "    plt.scatter(X_set[y_set == j, 0], X_set[y_set == j, 1],\n",
        "                c = ListedColormap(('red', 'green'))(i), label = j)\n",
        "plt.title('Naive Bayes (Test set)')\n",
        "plt.xlabel('Time')\n",
        "plt.ylabel('Number of Warts')\n",
        "plt.legend()\n",
        "plt.show()"
      ]
    }
  ],
  "metadata": {
    "colab": {
      "provenance": []
    },
    "kernelspec": {
      "display_name": "Python 3",
      "language": "python",
      "name": "python3"
    },
    "language_info": {
      "codemirror_mode": {
        "name": "ipython",
        "version": 3
      },
      "file_extension": ".py",
      "mimetype": "text/x-python",
      "name": "python",
      "nbconvert_exporter": "python",
      "pygments_lexer": "ipython3",
      "version": "3.6.5"
    }
  },
  "nbformat": 4,
  "nbformat_minor": 0
}
